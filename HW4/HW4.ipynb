{
 "cells": [
  {
   "cell_type": "markdown",
   "metadata": {},
   "source": [
    "# CS 182: Artificial Intelligence\n",
    "# Assignment 4: Probability and Inference under Uncertainty\n",
    "\n",
    "* Fall 2016\n",
    "* Due: **Friday**, November 4, 5:00pm\n",
    "\n",
    "In this assignment, you will use probabilistic inference and particle filtering to guide Pacman through a tracking  problem. Note: We will use the Pacman framework developed at Berkeley. This framework is used worldwide to teach AI, therefore it is very important that you DO NOT publish your solutions online."
   ]
  },
  {
   "cell_type": "markdown",
   "metadata": {},
   "source": [
    "\n",
    "## Computational Assignment (25 points)\n",
    "\n",
    "<img src=\"https://s3-us-west-2.amazonaws.com/cs188websitecontent/projects/release/tracking/v1/001/busters.png\">\n",
    "\n",
    "Follow the instructions at:\n",
    "\n",
    "> http://ai.berkeley.edu/tracking.html\n",
    "\n",
    "The page includes questions requiring implementation of sequential decision making and reinforcement algorithms we studied in class. [We will be using the Berkeley grading scheme to grade this part of the problem set.]\n",
    "\n",
    "To get the assignment follow the Berkeley zip file:\n",
    "\n",
    "> https://s3-us-west-2.amazonaws.com/cs188websitecontent/projects/release/multiagent/v1/002/multiagent.zip"
   ]
  },
  {
   "cell_type": "markdown",
   "metadata": {},
   "source": [
    "### Notes:\n",
    "\n",
    "This is one of the hardest of the Pacman assignments, but also one of the most interesting. Be sure you understand the theoretical aspects of tracking and hidden Markov models, as well as particle filters, before you get started.  "
   ]
  },
  {
   "cell_type": "markdown",
   "metadata": {},
   "source": [
    "## Written Assignment (15 points)\n",
    "\n",
    "Answer the following questions individually, and submit as pdf to the dropbox folder. "
   ]
  },
  {
   "cell_type": "markdown",
   "metadata": {},
   "source": [
    "### Question 1: Probability (3 points)\n",
    "\n",
    "a) (2 point) An _exit poll_ is a survey taken of voters just after they have voted. One major use of exit polls has been so that news organizations can try to figure out as soon as possible who won the election, before the votes are actually counted. This has been notoriously inaccurate in various elections, sometimes because of _selection bias_: the sample of people who are invited to and agree to participate in the survey may not be similar enough to the overall population of voters. Suppose there is an election with two candidates, X and Y. Every voter is presented with the option to participate in an exit poll; some participate and some refuse. For a randomly selected voter, let $X$ be the event that they voted for Candidate X, and $W$ be the event that they participate in the exit poll. Suppose that $P(W | X) = 0.8$ but $P(W | X^C) = 0.3$. In the exit poll, 65% of the respondents say that they voted for X; assuming that they are all honest, this suggests a comfortable victory for X. Find $P(X)$, the true proportion of people who voted for X. How does this compare to the 65% proportion found in the exit poll?\n",
    "\n",
    "b) (1 point) According to the CDC, men who smoke are 23 times more likely to develop lung cancer than men who don't smoke. Also according to the CDC, 21.6% of men in the U.S. smoke. What is the probability that a man in the U.S. is a smoker, given that he develops lung cancer?"
   ]
  },
  {
   "cell_type": "markdown",
   "metadata": {},
   "source": [
    "### Question 2: The Coin Problem (3 points)\n",
    "\n",
    "Ankit and Aidi decide to play a coin game to show how we can use HMMs for sequence analysis problems. Aidi tosses first, then they take turns. The game finishes when \"HTH\" appears, and whoever last flips the coin wins. At each timestep, they can flip the coin many times, and the rules for stopping and switching to the other partner are as follows:\n",
    "\n",
    "1. Every time Aidi flips the coin, she also flips an extra unfair coin (P(H) = 0.3). She stops if the extra unfair coin lands heads. Otherwise, she keeps flipping the fair and extra biased coin (at the same time). The flips of the extra coin are not recorded.\n",
    "2. Every time Ankit flips the coin, he only flips the fair coin until H appears (and all flips are recorded).\n",
    "\n",
    "You're given a sequence of recorded coin fips. You'd like ot infer the winner and the flips of each player.\n",
    "\n",
    "Describe an HMM to model this game (draw a diagram with nodes and edges/arrows).\n",
    "\n",
    "---------"
   ]
  },
  {
   "cell_type": "markdown",
   "metadata": {},
   "source": [
    "For this remaining problems of the written assignment you will play a typing simulation. Let random variable $E$ represent the observed key press, and $X$ represent the hidden (intended) key press.  We have a language with 4 letters (A, B, C, D), and a keyboard arranged as a circle. \n",
    "\n",
    "<table>\n",
    "<tr> <td>A</td><td>B</td> </tr> \n",
    "<tr> <td>C</td><td>D</td>  </tr>\n",
    "</table>\n",
    "\n",
    "At any time, the probability of hitting the intended key is 50%, and the probability of hitting the neighboring keys is 25%. For example:\n",
    "\n",
    "$$ Pr(E | X = \\mathrm{B}) $$\n",
    "\n",
    "<table>\n",
    "<tr> <td>0.25</td><td>0.5</td> </tr> \n",
    "<tr> <td>0</td><td>0.25</td>  </tr>\n",
    "</table>\n",
    "\n",
    "We will construct a filtering model for constructing the belief state for this problem.\n",
    "\n",
    "### Question 3 (1 point)\n",
    "\n",
    "Assuming a uniform prior distribution, calculate the condition probability table (CPT) of $Pr(X=x | E=e)$ for all $x$ and $e$. \n",
    "\n",
    "### Question 4 (2 points)\n",
    "\n",
    "Now let the prior distribution be:\n",
    "\n",
    "\n",
    "| x  |  Pr(X=x) |\n",
    "|---|---|\n",
    "|A | 0.4 |\n",
    "|B | 0.2    |\n",
    "|C | 0.1    |\n",
    "|D | 0.3    | \n",
    "\n",
    "Calculate the CPT $Pr(X=x | E=e)$ for all $x$ and $e$. \n",
    " \n",
    "### Question 5 (3 points)\n",
    "\n",
    "We next consider a time series of observations. Our transition model will be (rows $X_{i-1}$):\n",
    "\n",
    "$$Pr(X_i | X_{i-1} )$$\n",
    "\n",
    "|   |  A | B | C | D |\n",
    "|---|---|---|----------|\n",
    "|Begin | 1| 0| 0| 0| \n",
    "|A | 0.5 | 0.5 | 0 | 0 |\n",
    "|B | 0.0 | 0.5| 0.5| 0|\n",
    "|C | 0.5 | 0| 0| 0.5|\n",
    "|D |  0.25   |0.25 |0.25 | 0.25|\n",
    "\n",
    "For this problem we are concerned with true (hidden) sequences, as opposed to observations. What is the probability under this model of the sequence of letters \"A B B C D\"? How about \"A A B A\"? What is $Pr(X_3=x | X_1 = \\mathrm{A}, X_2 = \\mathrm{B})$ for all $x$?\n",
    "\n",
    "\n",
    "### Question 6 (3 points)\n",
    "\n",
    "Finally we consider the full filtering problem $Pr(X_n | E_1, \\ldots, E_n)$. Let \"A B B C D\" be the sequence of observed key strokes. What is the current belief state of the model? That is compute $Pr(X_n = x | E_1 = \\mathrm{A}, E_2=\\mathrm{B}, E_3=\\mathrm{B}, E_4 = \\mathrm{C}, E_5=\\mathrm{D})$ for all $x$."
   ]
  }
 ],
 "metadata": {
  "kernelspec": {
   "display_name": "Python 2",
   "language": "python",
   "name": "python2"
  },
  "language_info": {
   "codemirror_mode": {
    "name": "ipython",
    "version": 2
   },
   "file_extension": ".py",
   "mimetype": "text/x-python",
   "name": "python",
   "nbconvert_exporter": "python",
   "pygments_lexer": "ipython2",
   "version": "2.7.12"
  }
 },
 "nbformat": 4,
 "nbformat_minor": 0
}
